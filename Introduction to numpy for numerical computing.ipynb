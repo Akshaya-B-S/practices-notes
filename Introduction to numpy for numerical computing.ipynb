{
 "cells": [
  {
   "cell_type": "markdown",
   "id": "966c10ef",
   "metadata": {},
   "source": [
    "Intro to numpy for numerical computing"
   ]
  },
  {
   "cell_type": "code",
   "execution_count": 1,
   "id": "964effd2",
   "metadata": {},
   "outputs": [],
   "source": [
    "import numpy as np"
   ]
  },
  {
   "cell_type": "markdown",
   "id": "8cd909d7",
   "metadata": {},
   "source": [
    "create array"
   ]
  },
  {
   "cell_type": "code",
   "execution_count": 3,
   "id": "9e498557",
   "metadata": {},
   "outputs": [
    {
     "data": {
      "text/plain": [
       "array([1, 2, 3, 4])"
      ]
     },
     "execution_count": 3,
     "metadata": {},
     "output_type": "execute_result"
    }
   ],
   "source": [
    "arr = np.array([1,2,3,4])\n",
    "arr"
   ]
  },
  {
   "cell_type": "markdown",
   "id": "fc8e4647",
   "metadata": {},
   "source": [
    "Using built in function"
   ]
  },
  {
   "cell_type": "code",
   "execution_count": 8,
   "id": "3fec955a",
   "metadata": {},
   "outputs": [
    {
     "data": {
      "text/plain": [
       "array([[0., 0., 0.],\n",
       "       [0., 0., 0.],\n",
       "       [0., 0., 0.]])"
      ]
     },
     "execution_count": 8,
     "metadata": {},
     "output_type": "execute_result"
    }
   ],
   "source": [
    "zeroes = np.zeros((3,3))  #creating a zeroes array\n",
    "zeroes"
   ]
  },
  {
   "cell_type": "code",
   "execution_count": 7,
   "id": "247d02ce",
   "metadata": {},
   "outputs": [
    {
     "data": {
      "text/plain": [
       "array([[1., 1., 1.],\n",
       "       [1., 1., 1.],\n",
       "       [1., 1., 1.]])"
      ]
     },
     "execution_count": 7,
     "metadata": {},
     "output_type": "execute_result"
    }
   ],
   "source": [
    "ones = np.ones((3,3))  #creating ones array\n",
    "ones"
   ]
  },
  {
   "cell_type": "code",
   "execution_count": 9,
   "id": "c13d8e9b",
   "metadata": {},
   "outputs": [
    {
     "data": {
      "text/plain": [
       "array([1, 3, 5, 7, 9])"
      ]
     },
     "execution_count": 9,
     "metadata": {},
     "output_type": "execute_result"
    }
   ],
   "source": [
    "range_arr = np.arange(1,10,2) #give range of array\n",
    "range_arr"
   ]
  },
  {
   "cell_type": "code",
   "execution_count": 10,
   "id": "9877977f",
   "metadata": {},
   "outputs": [
    {
     "data": {
      "text/plain": [
       "array([0.  , 0.25, 0.5 , 0.75, 1.  ])"
      ]
     },
     "execution_count": 10,
     "metadata": {},
     "output_type": "execute_result"
    }
   ],
   "source": [
    "linspace_arr = np.linspace(0,1,5)  #Interval between numbers\n",
    "linspace_arr"
   ]
  },
  {
   "cell_type": "markdown",
   "id": "83790aa1",
   "metadata": {},
   "source": [
    "Manipulating array"
   ]
  },
  {
   "cell_type": "code",
   "execution_count": null,
   "id": "559acc94",
   "metadata": {},
   "outputs": [
    {
     "data": {
      "text/plain": [
       "array([[1, 2],\n",
       "       [3, 4],\n",
       "       [5, 6]])"
      ]
     },
     "execution_count": 12,
     "metadata": {},
     "output_type": "execute_result"
    }
   ],
   "source": [
    "arr = np.array([1,2,3,4,5,6])\n",
    "reshaped = arr.reshape((3,2))   #change the shape of array\n",
    "reshaped"
   ]
  },
  {
   "cell_type": "code",
   "execution_count": null,
   "id": "a4dde68e",
   "metadata": {},
   "outputs": [
    {
     "data": {
      "text/plain": [
       "array([[1],\n",
       "       [2],\n",
       "       [3],\n",
       "       [4],\n",
       "       [5],\n",
       "       [6]])"
      ]
     },
     "execution_count": 14,
     "metadata": {},
     "output_type": "execute_result"
    }
   ],
   "source": [
    "expanded = arr[:, np.newaxis]     #add an axis, to increase the dimension of an array\n",
    "expanded"
   ]
  },
  {
   "cell_type": "markdown",
   "id": "cfd64552",
   "metadata": {},
   "source": [
    "Basic operation on array"
   ]
  },
  {
   "cell_type": "code",
   "execution_count": null,
   "id": "113484c1",
   "metadata": {},
   "outputs": [
    {
     "data": {
      "text/plain": [
       "array([5, 7, 9])"
      ]
     },
     "execution_count": 15,
     "metadata": {},
     "output_type": "execute_result"
    }
   ],
   "source": [
    "a= np.array([1,2,3])\n",
    "b= np.array([4,5,6])\n",
    "a+b   #addition"
   ]
  },
  {
   "cell_type": "code",
   "execution_count": null,
   "id": "2ffcc1e0",
   "metadata": {},
   "outputs": [
    {
     "data": {
      "text/plain": [
       "array([ 4, 10, 18])"
      ]
     },
     "execution_count": 17,
     "metadata": {},
     "output_type": "execute_result"
    }
   ],
   "source": [
    "a*b  #multiplication"
   ]
  },
  {
   "cell_type": "code",
   "execution_count": null,
   "id": "18f30417",
   "metadata": {},
   "outputs": [
    {
     "data": {
      "text/plain": [
       "array([0.25, 0.4 , 0.5 ])"
      ]
     },
     "execution_count": 18,
     "metadata": {},
     "output_type": "execute_result"
    }
   ],
   "source": [
    "a/b   #division"
   ]
  },
  {
   "cell_type": "code",
   "execution_count": null,
   "id": "04760cc8",
   "metadata": {},
   "outputs": [
    {
     "data": {
      "text/plain": [
       "array([2., 4., 5.])"
      ]
     },
     "execution_count": 19,
     "metadata": {},
     "output_type": "execute_result"
    }
   ],
   "source": [
    "arr=np.array([4,16,25])   #mathemathical operation\n",
    "np.sqrt(arr)         #square root of array"
   ]
  },
  {
   "cell_type": "code",
   "execution_count": null,
   "id": "2ea14727",
   "metadata": {},
   "outputs": [
    {
     "data": {
      "text/plain": [
       "np.int64(45)"
      ]
     },
     "execution_count": 20,
     "metadata": {},
     "output_type": "execute_result"
    }
   ],
   "source": [
    "np.sum(arr)   #sum of array"
   ]
  },
  {
   "cell_type": "code",
   "execution_count": null,
   "id": "e4b8e183",
   "metadata": {},
   "outputs": [
    {
     "data": {
      "text/plain": [
       "np.float64(15.0)"
      ]
     },
     "execution_count": 21,
     "metadata": {},
     "output_type": "execute_result"
    }
   ],
   "source": [
    "np.mean(arr)          # mean of array"
   ]
  },
  {
   "cell_type": "code",
   "execution_count": null,
   "id": "482505d9",
   "metadata": {},
   "outputs": [
    {
     "data": {
      "text/plain": [
       "np.int64(25)"
      ]
     },
     "execution_count": 22,
     "metadata": {},
     "output_type": "execute_result"
    }
   ],
   "source": [
    "np.max(arr)     #max of array"
   ]
  },
  {
   "cell_type": "markdown",
   "id": "4960563e",
   "metadata": {},
   "source": [
    "Array indexing , slicing and reshaping"
   ]
  },
  {
   "cell_type": "code",
   "execution_count": 30,
   "id": "ed2ee35f",
   "metadata": {},
   "outputs": [
    {
     "data": {
      "text/plain": [
       "np.int64(30)"
      ]
     },
     "execution_count": 30,
     "metadata": {},
     "output_type": "execute_result"
    }
   ],
   "source": [
    "arr = np.array([10,20,30,40,50,60])\n",
    "arr[2]   #indexing"
   ]
  },
  {
   "cell_type": "code",
   "execution_count": 31,
   "id": "a63303e2",
   "metadata": {},
   "outputs": [
    {
     "data": {
      "text/plain": [
       "array([20, 30, 40])"
      ]
     },
     "execution_count": 31,
     "metadata": {},
     "output_type": "execute_result"
    }
   ],
   "source": [
    "arr[1:4]      #slicing"
   ]
  },
  {
   "cell_type": "code",
   "execution_count": 32,
   "id": "2ae44ded",
   "metadata": {},
   "outputs": [
    {
     "data": {
      "text/plain": [
       "array([10, 20, 30])"
      ]
     },
     "execution_count": 32,
     "metadata": {},
     "output_type": "execute_result"
    }
   ],
   "source": [
    "arr[: 3]"
   ]
  },
  {
   "cell_type": "code",
   "execution_count": null,
   "id": "8195c03f",
   "metadata": {},
   "outputs": [
    {
     "data": {
      "text/plain": [
       "array([[10, 20],\n",
       "       [30, 40],\n",
       "       [50, 60]])"
      ]
     },
     "execution_count": 34,
     "metadata": {},
     "output_type": "execute_result"
    }
   ],
   "source": [
    "reshape_arr  = arr.reshape(3,2)\n",
    "reshape_arr  #reshaping"
   ]
  },
  {
   "cell_type": "code",
   "execution_count": null,
   "id": "57949e95",
   "metadata": {},
   "outputs": [],
   "source": [
    "Hands on exercise"
   ]
  },
  {
   "cell_type": "markdown",
   "id": "1c9f5e9a",
   "metadata": {},
   "source": [
    "1) Generate Array for basic mathematical operations"
   ]
  },
  {
   "cell_type": "code",
   "execution_count": 41,
   "id": "d7bc22e9",
   "metadata": {},
   "outputs": [
    {
     "name": "stdout",
     "output_type": "stream",
     "text": [
      "Add [ 7  9 11 13 15]\n",
      "sub [-5 -5 -5 -5 -5]\n",
      "Mul [ 6 14 24 36 50]\n",
      "Div [0.16666667 0.28571429 0.375      0.44444444 0.5       ]\n"
     ]
    }
   ],
   "source": [
    "c = np.arange(1,6)\n",
    "d = np.arange(6,11)\n",
    "print(\"Add\" , c+d)\n",
    "print(\"sub\" , c-d)\n",
    "print(\"Mul\" , c*d)\n",
    "print(\"Div\", c/d)\n"
   ]
  },
  {
   "cell_type": "markdown",
   "id": "3d965ee3",
   "metadata": {},
   "source": [
    "2) Create a 3*3 matrix and perform operations"
   ]
  },
  {
   "cell_type": "code",
   "execution_count": 45,
   "id": "6444c8ae",
   "metadata": {},
   "outputs": [
    {
     "name": "stdout",
     "output_type": "stream",
     "text": [
      "Original matrix\n",
      " [[1 2 3]\n",
      " [4 5 6]\n",
      " [7 8 9]]\n",
      "Transpose matrix\n",
      " [[1 4 7]\n",
      " [2 5 8]\n",
      " [3 6 9]]\n"
     ]
    }
   ],
   "source": [
    "matrix = np.array([[1,2,3],[4,5,6],[7,8,9]])\n",
    "print(\"Original matrix\\n\", matrix)\n",
    "transpose = matrix.T\n",
    "print(\"Transpose matrix\\n\" ,transpose)"
   ]
  },
  {
   "cell_type": "code",
   "execution_count": 46,
   "id": "0c9edd5a",
   "metadata": {},
   "outputs": [
    {
     "name": "stdout",
     "output_type": "stream",
     "text": [
      "Addition:\n",
      " [[10 10 10]\n",
      " [10 10 10]\n",
      " [10 10 10]]\n",
      "Multiplication:\n",
      " [[ 9 16 21]\n",
      " [24 25 24]\n",
      " [21 16  9]]\n"
     ]
    }
   ],
   "source": [
    "another_matrix = np.array([[9,8,7],[6,5,4],[3,2,1]])\n",
    "print(\"Addition:\\n\", matrix + another_matrix)\n",
    "print(\"Multiplication:\\n\", matrix * another_matrix)"
   ]
  }
 ],
 "metadata": {
  "kernelspec": {
   "display_name": "Python 3",
   "language": "python",
   "name": "python3"
  },
  "language_info": {
   "codemirror_mode": {
    "name": "ipython",
    "version": 3
   },
   "file_extension": ".py",
   "mimetype": "text/x-python",
   "name": "python",
   "nbconvert_exporter": "python",
   "pygments_lexer": "ipython3",
   "version": "3.12.10"
  }
 },
 "nbformat": 4,
 "nbformat_minor": 5
}
