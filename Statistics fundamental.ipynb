{
 "cells": [
  {
   "cell_type": "markdown",
   "id": "c781d403",
   "metadata": {},
   "source": [
    "STATISTICS FUNDAMENTAL\n",
    "CENTRAL TENDENCY\n",
    "   MEAN - average value\n",
    "   MEDIAN - middle value\n",
    "   MODE - most frequent value"
   ]
  },
  {
   "cell_type": "code",
   "execution_count": 4,
   "id": "aee60c99",
   "metadata": {},
   "outputs": [
    {
     "name": "stdout",
     "output_type": "stream",
     "text": [
      "mean 30.0\n",
      "median 30\n"
     ]
    }
   ],
   "source": [
    "data =[10,20,30,40,50]\n",
    "mean =sum(data)/ len(data)\n",
    "print(\"mean\", mean)\n",
    "sorted_data = sorted(data)\n",
    "median = sorted_data[len(data)//2] if len(data)%2 !=0 else (sorted_data[len(data)//2]+ sorted_date(len(data)//2))/2\n",
    "print(\"median\", median)"
   ]
  },
  {
   "cell_type": "code",
   "execution_count": null,
   "id": "b908c9bd",
   "metadata": {},
   "outputs": [],
   "source": [
    "from statistics import mode\n",
    "print(\"Mode\", mode(data))"
   ]
  },
  {
   "cell_type": "markdown",
   "id": "cebe531f",
   "metadata": {},
   "source": [
    "DISPERSION\n",
    "VARIANCE - averge squared deviation from mean\n",
    "   eg : var = sum (x-mean)**2 for x in (data)/len(data)\n",
    "STANDARD DERIVATION - the square root of variance\n",
    "   eg: std_der = var**0.5\n",
    "HYPOTHESIS TESTING\n",
    "   - statistical method to determine whether the result is significant or occurred by chance\n",
    "   STEPS\n",
    "    1) FORMULATE HYPOTHESES\n",
    "      - NULL - defined as h(0) , assume that no effect is created\n",
    "      - ALTERNATIVE - defined as h(A) , assume that  effect or difference exist\n",
    "    2) CALCULATE TEST STATISTIC\n",
    "      - which quantifies the diff\n",
    "    3) DETERMINE P_VALUE\n",
    "      - propability of observing data as extreme as the test statistics under null hypothesis\n",
    "    4) INTERPRET RESULT\n",
    "      - check if probability < alpha which is significant level\n",
    "CONFIDENCE INTERVAL\n",
    "    range of value within which the true population parameter is expected to lie\n",
    "STATISTICAL SIGNIFICANCE\n",
    "    if key value is less than significant level such as alpha 0.05"
   ]
  },
  {
   "cell_type": "code",
   "execution_count": 12,
   "id": "0d805d6a",
   "metadata": {},
   "outputs": [
    {
     "name": "stdout",
     "output_type": "stream",
     "text": [
      "95% confidence interval: (17.603871572139955, 42.39612842786005)\n"
     ]
    }
   ],
   "source": [
    "import scipy.stats as stats\n",
    "\n",
    "data = [10, 20, 30, 40, 50]\n",
    "mean = sum(data) / len(data)\n",
    "z_score = 1.96  # for 95% confidence\n",
    "\n",
    "# Calculate variance and standard deviation\n",
    "var = sum((x - mean) ** 2 for x in data) / len(data)  # population variance\n",
    "std_dev = var ** 0.5\n",
    "\n",
    "# Calculate confidence interval\n",
    "margin_of_error = z_score * (std_dev / (len(data) ** 0.5))\n",
    "ci = (mean - margin_of_error, mean + margin_of_error)\n",
    "\n",
    "print(\"95% confidence interval:\", ci)\n"
   ]
  },
  {
   "cell_type": "code",
   "execution_count": 8,
   "id": "f3ae6a17",
   "metadata": {},
   "outputs": [
    {
     "name": "stdout",
     "output_type": "stream",
     "text": [
      "28.0\n",
      "136.0\n",
      "11.661903789690601\n"
     ]
    }
   ],
   "source": [
    "import numpy as np\n",
    "data =[10,20,30,40,40]\n",
    "mean = np.mean(data)\n",
    "var = np.var(data)\n",
    "std_dev =np.std(data)\n",
    "print(mean)\n",
    "print(var)\n",
    "print(std_dev)"
   ]
  },
  {
   "cell_type": "code",
   "execution_count": 11,
   "id": "ed745600",
   "metadata": {},
   "outputs": [
    {
     "name": "stdout",
     "output_type": "stream",
     "text": [
      "T statistics: 0.8057906658645221\n",
      "P_values 0.44365342137033814\n",
      "Reject null hypothesis: significant difference\n"
     ]
    }
   ],
   "source": [
    "#perform T test\n",
    "from scipy.stats import ttest_ind\n",
    "group1 =[2.3,2.5,2.8,3.0,3.2]\n",
    "group2 =[1.0,2.2,2.4,2.9,3.5]\n",
    "t_stats, p_value = ttest_ind(group1, group2)\n",
    "print(\"T statistics:\", t_stats)\n",
    "print(\"P_values\",p_value)\n",
    "alpha =0.5\n",
    "if p_value < alpha:\n",
    "    print(\"Reject null hypothesis: significant difference\")\n",
    "else:\n",
    "    print(\"Failed to reject null hypothesis: no significant difference\")"
   ]
  }
 ],
 "metadata": {
  "kernelspec": {
   "display_name": "Python 3",
   "language": "python",
   "name": "python3"
  },
  "language_info": {
   "codemirror_mode": {
    "name": "ipython",
    "version": 3
   },
   "file_extension": ".py",
   "mimetype": "text/x-python",
   "name": "python",
   "nbconvert_exporter": "python",
   "pygments_lexer": "ipython3",
   "version": "3.12.10"
  }
 },
 "nbformat": 4,
 "nbformat_minor": 5
}
