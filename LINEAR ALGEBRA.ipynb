{
 "cells": [
  {
   "cell_type": "markdown",
   "id": "b59e8f23",
   "metadata": {},
   "source": [
    "LINEAR ALGEBRA FUNDAMENTAL"
   ]
  },
  {
   "cell_type": "markdown",
   "id": "770eb2e4",
   "metadata": {},
   "source": [
    "VECTOR AND MATRICES\n",
    "vector    eg: [4,7,8]\n",
    "matrix    eg:[[3,5,7],[9,2,6].[3,4,7]]"
   ]
  },
  {
   "cell_type": "markdown",
   "id": "85e5bb89",
   "metadata": {},
   "source": [
    "MATRIX OPORATION\n",
    "*ADDITION AND SUBTRACTION  - add and subtract two matrix\n",
    "*MATRIX MULTIPLICATION     - multiply two matrix a and b together\n",
    "*SCALAR MULTIPLICATION     -multiply every element \n",
    "\n",
    "SPECIAL MATRIX\n",
    "*IDENTITY MATRIX     - diagonal have one and other are zero in matrix\n",
    "*ZERO MATRIX         - create zero matrix for given dimension matrix\n",
    "*DIAGONAL MATRIX     - insert a element in diagonal and others are 0 in matrix"
   ]
  },
  {
   "cell_type": "code",
   "execution_count": 2,
   "id": "fc172f1e",
   "metadata": {},
   "outputs": [],
   "source": [
    "import numpy as np"
   ]
  },
  {
   "cell_type": "code",
   "execution_count": 6,
   "id": "aef86e68",
   "metadata": {},
   "outputs": [
    {
     "name": "stdout",
     "output_type": "stream",
     "text": [
      "Addition matrix:\n",
      " [[ 7 14 18]\n",
      " [ 4  9  7]\n",
      " [ 8 17  2]]\n",
      "Subtraction matrix:\n",
      " [[-1 -2  0]\n",
      " [ 0 -1  5]\n",
      " [ 2  3  0]]\n"
     ]
    }
   ],
   "source": [
    "#create two matrix\n",
    "a = np.array([[3,6,9],[2,4,6],[5,10,1]])\n",
    "b = np.array([[4,8,9],[2,5,1],[3,7,1]])\n",
    "#addition matrix\n",
    "print(\"Addition matrix:\\n\",a+b)\n",
    "print(\"Subtraction matrix:\\n\", a-b)"
   ]
  },
  {
   "cell_type": "code",
   "execution_count": 8,
   "id": "a110ff83",
   "metadata": {},
   "outputs": [
    {
     "name": "stdout",
     "output_type": "stream",
     "text": [
      "Scalar multiplication:\n",
      " [[ 6 12 18]\n",
      " [ 4  8 12]\n",
      " [10 20  2]]\n",
      "Matrix multiplication:\n",
      " [[ 51 117  42]\n",
      " [ 34  78  28]\n",
      " [ 43  97  56]]\n"
     ]
    }
   ],
   "source": [
    "#scalar multiplication\n",
    "c = 2*a\n",
    "print(\"Scalar multiplication:\\n\",c)\n",
    "\n",
    "#multiplication matrix\n",
    "res = np.dot(a,b)\n",
    "print(\"Matrix multiplication:\\n\",res)"
   ]
  },
  {
   "cell_type": "code",
   "execution_count": 9,
   "id": "273190bb",
   "metadata": {},
   "outputs": [
    {
     "name": "stdout",
     "output_type": "stream",
     "text": [
      "Identity matrix:\n",
      " [[1. 0.]\n",
      " [0. 1.]]\n",
      "Zeros matrix:\n",
      " [[0. 0. 0.]\n",
      " [0. 0. 0.]]\n",
      "Diagonal matrix:\n",
      " [[ 7  0  0]\n",
      " [ 0  3  0]\n",
      " [ 0  0 44]]\n"
     ]
    }
   ],
   "source": [
    "#special matrix\n",
    "#identity matrix\n",
    "I = np.eye(2)\n",
    "print(\"Identity matrix:\\n\",I)\n",
    "\n",
    "#Zero matrix\n",
    "z = np.zeros((2,3))\n",
    "print(\"Zeros matrix:\\n\",z)\n",
    "\n",
    "#diagonal matrix\n",
    "d = np.diag([7,3,44])\n",
    "print(\"Diagonal matrix:\\n\",d)"
   ]
  },
  {
   "cell_type": "markdown",
   "id": "43823b63",
   "metadata": {},
   "source": [
    "ADVANCED LINEAR ALGEBRA\n",
    "DETERMINANT\n",
    "  -calculate only for square matrix\n",
    "  -det(A) equal to 0 , matrix is singular\n",
    "  -det(A) not equal to 0, A is invertible\n",
    "  -det([[a,b],[c,d]]) = ad - bc \n",
    "INVERSE MATRIX\n",
    "  -matrix is invertible only if det A not equal to 0\n",
    "  -A inverse = 1/det(A)*([[d,-b],[-c,a]])\n",
    "  -A * A inverse equal to identity matrix"
   ]
  },
  {
   "cell_type": "code",
   "execution_count": 11,
   "id": "f52b00b4",
   "metadata": {},
   "outputs": [
    {
     "name": "stdout",
     "output_type": "stream",
     "text": [
      "Determinant of A:\n",
      " -37.99999999999999\n",
      "Inverse of A matrix:\n",
      " [[-0.02631579  0.21052632]\n",
      " [ 0.13157895 -0.05263158]]\n"
     ]
    }
   ],
   "source": [
    "#find determinant \n",
    "A = np.array([[2,8],[5,1]])\n",
    "result = np.linalg.det(A)\n",
    "print(\"Determinant of A:\\n\",result )\n",
    "#find inverse\n",
    "res1 = np.linalg.inv(A)\n",
    "print(\"Inverse of A matrix:\\n\", res1)"
   ]
  },
  {
   "cell_type": "markdown",
   "id": "f4e3180d",
   "metadata": {},
   "source": [
    "EIGEN VALUES AND EIGEN VECTOR\n",
    " -properties of square matrix\n",
    " -describe transformation\n",
    " -if A.V =LAMBDA.V then V is eigen vertor , LAMBDA is eigen value\n",
    "EIGEN VALUES\n",
    " -indicate the factor of stretching\n",
    "EIGEN VECTOR\n",
    " -point in direction where the matrix transformation stretches\n",
    "PROPERTIES\n",
    " -matrix n has n eigen values and eigen vectors\n",
    " -can be real or complex\n",
    " -for symmetric matrix, eigen values are always real"
   ]
  },
  {
   "cell_type": "code",
   "execution_count": 12,
   "id": "687e82f4",
   "metadata": {},
   "outputs": [
    {
     "name": "stdout",
     "output_type": "stream",
     "text": [
      "Eigenvalues:\n",
      " [ 7.84428877 -4.84428877]\n",
      "Eigenvector:\n",
      " [[ 0.80748079 -0.75985955]\n",
      " [ 0.58989386  0.65008727]]\n"
     ]
    }
   ],
   "source": [
    "eigenvalues, eigenvector = np.linalg.eig(A)\n",
    "print(\"Eigenvalues:\\n\", eigenvalues)\n",
    "print(\"Eigenvector:\\n\", eigenvector)"
   ]
  },
  {
   "cell_type": "markdown",
   "id": "1639eb27",
   "metadata": {},
   "source": [
    "MATRIX DECOMPOSITION\n",
    "  - to break matrix into small segment and analyze or solve the problem\n",
    "SINGULAR VALUE DECOMPOSITION(SVD)\n",
    "  - SVD decomposes a matrix A into 3 matrix A = U* SIGMA* VPOWERT\n",
    "  - U : left singular vector(orthogonal matrix)\n",
    "  -SIGMA : diagonal matrix of singular values (non negative)\n",
    "  -VPOWERT: right singular vector"
   ]
  },
  {
   "cell_type": "code",
   "execution_count": 13,
   "id": "77693686",
   "metadata": {},
   "outputs": [
    {
     "name": "stdout",
     "output_type": "stream",
     "text": [
      "U:\n",
      " [[-0.93788501 -0.34694625]\n",
      " [-0.34694625  0.93788501]]\n",
      "Singular values:\n",
      " [8.64052275 4.39788206]\n",
      "VT:\n",
      " [[-0.41785681 -0.9085129 ]\n",
      " [ 0.9085129  -0.41785681]]\n"
     ]
    }
   ],
   "source": [
    "U, S , VT = np.linalg.svd(A)\n",
    "print(\"U:\\n\",U)\n",
    "print(\"Singular values:\\n\",S)\n",
    "print(\"VT:\\n\",VT)"
   ]
  },
  {
   "cell_type": "code",
   "execution_count": 17,
   "id": "85d1d696",
   "metadata": {},
   "outputs": [
    {
     "name": "stdout",
     "output_type": "stream",
     "text": [
      "[[2. 8.]\n",
      " [5. 1.]]\n"
     ]
    }
   ],
   "source": [
    "#RECONSTRUCT\n",
    "sigma = np.zeros((2,2))\n",
    "np.fill_diagonal(sigma,S)\n",
    "recons = U @ sigma @ VT\n",
    "print(recons)"
   ]
  }
 ],
 "metadata": {
  "kernelspec": {
   "display_name": "Python 3",
   "language": "python",
   "name": "python3"
  },
  "language_info": {
   "codemirror_mode": {
    "name": "ipython",
    "version": 3
   },
   "file_extension": ".py",
   "mimetype": "text/x-python",
   "name": "python",
   "nbconvert_exporter": "python",
   "pygments_lexer": "ipython3",
   "version": "3.12.10"
  }
 },
 "nbformat": 4,
 "nbformat_minor": 5
}
