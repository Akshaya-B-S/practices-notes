{
 "cells": [
  {
   "cell_type": "markdown",
   "id": "687966e4",
   "metadata": {},
   "source": [
    "Advanced numpy operation"
   ]
  },
  {
   "cell_type": "markdown",
   "id": "c87a1f85",
   "metadata": {},
   "source": [
    "Broadcasting in numpy:\n",
    "    allow the numpy to perform arithmetic operation on array of different shapes. smaller array are automatically expanded to match the shape of larger arrays.\n",
    "    Rules:\n",
    "        *Dimensions are aligned from the right.\n",
    "        *A dimension is compatible if:\n",
    "             -it matches the other arrays dimension.\n",
    "             -One of the dimension is 1.     "
   ]
  },
  {
   "cell_type": "code",
   "execution_count": 1,
   "id": "133d98a4",
   "metadata": {},
   "outputs": [],
   "source": [
    "import numpy as np"
   ]
  },
  {
   "cell_type": "code",
   "execution_count": 2,
   "id": "f157b304",
   "metadata": {},
   "outputs": [
    {
     "name": "stdout",
     "output_type": "stream",
     "text": [
      "[11 12 13]\n"
     ]
    }
   ],
   "source": [
    "#array and scalar broadcasting\n",
    "arr = np.array([1,2,3])\n",
    "print(arr + 10)"
   ]
  },
  {
   "cell_type": "code",
   "execution_count": 5,
   "id": "f6575f87",
   "metadata": {},
   "outputs": [
    {
     "name": "stdout",
     "output_type": "stream",
     "text": [
      "[[2 2 4]\n",
      " [5 5 7]]\n"
     ]
    }
   ],
   "source": [
    "matrix = np.array([[1,2,3],[4,5,6]])\n",
    "vector = np.array([1,0,1])\n",
    "print(matrix + vector)"
   ]
  },
  {
   "cell_type": "markdown",
   "id": "b56bc77c",
   "metadata": {},
   "source": [
    "Aggregation Functions\n",
    " - compute summary statistics for arrays"
   ]
  },
  {
   "cell_type": "code",
   "execution_count": 7,
   "id": "184a0360",
   "metadata": {},
   "outputs": [
    {
     "name": "stdout",
     "output_type": "stream",
     "text": [
      "Sum 21\n",
      "Mean 3.5\n",
      "Max: 6\n",
      "Min 1\n",
      "Standard Deviation 1.707825127659933\n",
      "Sum along rows [ 6 15]\n",
      "Sum along columns [5 7 9]\n"
     ]
    }
   ],
   "source": [
    "arr = np.array([[1,2,3],[4,5,6]])\n",
    "print(\"Sum\", np.sum(arr))\n",
    "print(\"Mean\", np.mean(arr))\n",
    "print(\"Max:\", np.max(arr))\n",
    "print(\"Min\", np.min(arr))\n",
    "print(\"Standard Deviation\", np.std(arr))\n",
    "print(\"Sum along rows\", np.sum(arr, axis=1))\n",
    "print(\"Sum along columns\", np.sum(arr , axis=0))"
   ]
  },
  {
   "cell_type": "markdown",
   "id": "b78dae75",
   "metadata": {},
   "source": [
    "Boolean indexing and filtering"
   ]
  },
  {
   "cell_type": "code",
   "execution_count": 8,
   "id": "ab4e19ff",
   "metadata": {},
   "outputs": [
    {
     "name": "stdout",
     "output_type": "stream",
     "text": [
      "Evens [2 4 6]\n",
      "Modified Array: [1 2 3 0 0 0]\n"
     ]
    }
   ],
   "source": [
    "a = np.array([1,2,3,4,5,6])\n",
    "evens = a[a%2 ==0]  #filtering\n",
    "print(\"Evens\",evens)\n",
    "a[a>3]=0\n",
    "print(\"Modified Array:\", a)"
   ]
  },
  {
   "cell_type": "code",
   "execution_count": 15,
   "id": "917386b5",
   "metadata": {},
   "outputs": [
    {
     "name": "stdout",
     "output_type": "stream",
     "text": [
      "Random array:\n",
      " [[0.00706631 0.02306243 0.52477466]\n",
      " [0.39986097 0.04666566 0.97375552]\n",
      " [0.23277134 0.09060643 0.61838601]]\n"
     ]
    }
   ],
   "source": [
    "#Random number generatiion and setting seeds \n",
    "random_array = np.random.rand(3,3)\n",
    "print(\"Random array:\\n\", random_array)"
   ]
  },
  {
   "cell_type": "code",
   "execution_count": 14,
   "id": "11eb46db",
   "metadata": {},
   "outputs": [
    {
     "name": "stdout",
     "output_type": "stream",
     "text": [
      "Random integers:\n",
      " [[5 1 4]\n",
      " [0 9 5]]\n"
     ]
    }
   ],
   "source": [
    "random_integers = np.random.randint(0,10,size=(2,3))\n",
    "print(\"Random integers:\\n\", random_integers)"
   ]
  },
  {
   "cell_type": "code",
   "execution_count": 16,
   "id": "c027364a",
   "metadata": {},
   "outputs": [
    {
     "name": "stdout",
     "output_type": "stream",
     "text": [
      "Random array:\n",
      " [[0.37454012 0.95071431 0.73199394]\n",
      " [0.59865848 0.15601864 0.15599452]\n",
      " [0.05808361 0.86617615 0.60111501]]\n",
      "Random integers:\n",
      " [[7 2 5]\n",
      " [4 1 7]]\n"
     ]
    }
   ],
   "source": [
    "np.random.seed(42)     #how many the code runs the output will never change\n",
    "random_array = np.random.rand(3,3)\n",
    "print(\"Random array:\\n\", random_array)\n",
    "random_integers = np.random.randint(0,10,size=(2,3))\n",
    "print(\"Random integers:\\n\", random_integers)"
   ]
  },
  {
   "cell_type": "markdown",
   "id": "9f80d1e3",
   "metadata": {},
   "source": [
    "Hands on exercises"
   ]
  },
  {
   "cell_type": "code",
   "execution_count": null,
   "id": "c1ae4c28",
   "metadata": {},
   "outputs": [
    {
     "name": "stdout",
     "output_type": "stream",
     "text": [
      "Addition\n",
      " [[2 2 2]\n",
      " [5 5 5]\n",
      " [8 8 8]]\n",
      "Multiplication\n",
      " [[ 1  0 -3]\n",
      " [ 4  0 -6]\n",
      " [ 7  0 -9]]\n"
     ]
    }
   ],
   "source": [
    "#1)Broadcasting operations \n",
    "matrix = np.array([[1,2,3],[4,5,6],[7,8,9]])\n",
    "vector = np.array([1,0,-1])\n",
    "print(\"Addition\\n\", matrix + vector)\n",
    "print(\"Multiplication\\n\", matrix * vector)"
   ]
  },
  {
   "cell_type": "code",
   "execution_count": null,
   "id": "b6af7d2b",
   "metadata": {},
   "outputs": [
    {
     "name": "stdout",
     "output_type": "stream",
     "text": [
      "Original datsetL\n",
      " [[44 30 38  2 21]\n",
      " [33 12 22 44 25]\n",
      " [49 27 42 28 16]\n",
      " [15 47 44  3 37]\n",
      " [ 7 21  9 39 18]]\n",
      "Modified DatasetL\n",
      " [[ 0  0  0  2 21]\n",
      " [ 0 12 22  0 25]\n",
      " [ 0  0  0  0 16]\n",
      " [15  0  0  3  0]\n",
      " [ 7 21  9  0 18]]\n",
      "Sum: 171\n",
      "Mean: 6.84\n",
      "Standard deviation: 8.748394138354763\n"
     ]
    }
   ],
   "source": [
    "#2)Generate and filter a random dataset using conditions\n",
    "\n",
    "#Generate random dataset\n",
    "dataset = np.random.randint(1,51, size=(5,5))\n",
    "print(\"Original datsetL\\n\", dataset)\n",
    "\n",
    "#Filter values >25 and replace with 0\n",
    "dataset[dataset >25 ] =0\n",
    "print(\"Modified DatasetL\\n\", dataset)\n",
    "\n",
    "#calculate summary stats\n",
    "print(\"Sum:\", np.sum(dataset))\n",
    "print(\"Mean:\", np.mean(dataset))\n",
    "print(\"Standard deviation:\", np.std(dataset))\n"
   ]
  }
 ],
 "metadata": {
  "kernelspec": {
   "display_name": "Python 3",
   "language": "python",
   "name": "python3"
  },
  "language_info": {
   "codemirror_mode": {
    "name": "ipython",
    "version": 3
   },
   "file_extension": ".py",
   "mimetype": "text/x-python",
   "name": "python",
   "nbconvert_exporter": "python",
   "pygments_lexer": "ipython3",
   "version": "3.12.10"
  }
 },
 "nbformat": 4,
 "nbformat_minor": 5
}
